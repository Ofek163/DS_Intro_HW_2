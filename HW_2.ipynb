{
 "cells": [
  {
   "cell_type": "code",
   "execution_count": 102,
   "id": "1dcb4d65",
   "metadata": {},
   "outputs": [],
   "source": [
    "# Ofek Peretz, 315767731\n",
    "\n",
    "#HW_2\n",
    "\n",
    "#A\n",
    "def reverse(sentence, reverse_word):\n",
    "    if type(reverse_word) == str:\n",
    "        counter = 0\n",
    "        words_list = sentence.split()\n",
    "        for word in words_list:\n",
    "            if word == reverse_word:\n",
    "                word = reverse_word[::-1]\n",
    "                break       \n",
    "            else:\n",
    "                counter = counter + 1 \n",
    "                     \n",
    "        if counter == len(words_list):\n",
    "            return \"The word was not found\"\n",
    "        else:\n",
    "            new_sentence = sentence.replace(reverse_word,word,1)\n",
    "            return new_sentence\n",
    "        \n",
    "    \n",
    "    else:\n",
    "        return \"Invaild input\"\n",
    "\n",
    "\n"
   ]
  },
  {
   "cell_type": "code",
   "execution_count": 103,
   "id": "29a5d745",
   "metadata": {},
   "outputs": [
    {
     "data": {
      "text/plain": [
       "'I ekil apples and I also like bananas'"
      ]
     },
     "execution_count": 103,
     "metadata": {},
     "output_type": "execute_result"
    }
   ],
   "source": [
    "reverse(\"I like apples and I also like bananas\", \"like\")"
   ]
  },
  {
   "cell_type": "code",
   "execution_count": 104,
   "id": "b4e4a1f0",
   "metadata": {},
   "outputs": [
    {
     "data": {
      "text/plain": [
       "'The word was not found'"
      ]
     },
     "execution_count": 104,
     "metadata": {},
     "output_type": "execute_result"
    }
   ],
   "source": [
    "reverse(\"I like apples and I also like bananas\", \"oranges\")"
   ]
  },
  {
   "cell_type": "code",
   "execution_count": 105,
   "id": "8deb7da7",
   "metadata": {},
   "outputs": [
    {
     "data": {
      "text/plain": [
       "'The word was not found'"
      ]
     },
     "execution_count": 105,
     "metadata": {},
     "output_type": "execute_result"
    }
   ],
   "source": [
    "reverse(\"I like apples and I also like bananas\", \"Bananas\")"
   ]
  },
  {
   "cell_type": "code",
   "execution_count": 106,
   "id": "03bbafde",
   "metadata": {},
   "outputs": [
    {
     "data": {
      "text/plain": [
       "'Invaild input'"
      ]
     },
     "execution_count": 106,
     "metadata": {},
     "output_type": "execute_result"
    }
   ],
   "source": [
    "reverse(\"I like apples and I also like bananas\", 3)"
   ]
  },
  {
   "cell_type": "code",
   "execution_count": null,
   "id": "ca706bee",
   "metadata": {},
   "outputs": [],
   "source": []
  }
 ],
 "metadata": {
  "kernelspec": {
   "display_name": "Python 3 (ipykernel)",
   "language": "python",
   "name": "python3"
  },
  "language_info": {
   "codemirror_mode": {
    "name": "ipython",
    "version": 3
   },
   "file_extension": ".py",
   "mimetype": "text/x-python",
   "name": "python",
   "nbconvert_exporter": "python",
   "pygments_lexer": "ipython3",
   "version": "3.9.7"
  }
 },
 "nbformat": 4,
 "nbformat_minor": 5
}
